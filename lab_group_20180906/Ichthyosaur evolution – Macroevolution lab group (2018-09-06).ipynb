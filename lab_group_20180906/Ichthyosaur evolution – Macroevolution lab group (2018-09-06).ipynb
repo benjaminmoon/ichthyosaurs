{
 "cells": [
  {
   "cell_type": "markdown",
   "metadata": {},
   "source": [
    "# Ichthyosaur macroevolution\n",
    "\n",
    "This is a note book for a lab group covering some of my recent research into ichthyosaur evolution; particularly looking at the effects of lagerstätten on ichthyosaur disparity-through-time.\n",
    "\n",
    "## Required packages\n",
    "\n",
    "Install the required packages, which are several:\n",
    "\n",
    "* `Claddis`: manipulation of cladistic matrices and disparity;\n",
    "* `dispaRity`: a convenient pipeline for disparity analyses;\n",
    "* `fitdistrplus`: for fitting distributions to data with additional features;\n",
    "* `magrittr`: piping between functions.\n"
   ]
  },
  {
   "cell_type": "code",
   "execution_count": 7,
   "metadata": {},
   "outputs": [],
   "source": [
    "# packages from  CRAN\n",
    "list_of_packages <- c(\"fitdistrplus\",\n",
    "                      \"dispRity\",\n",
    "                      \"magrittr\")\n",
    "new_packages <- list_of_packages[!(list_of_packages %in% installed.packages()[, \"Package\"])]\n",
    "# change CRAN repository if desired\n",
    "if (length(new_packages)) install.packages(new_packages,\n",
    "                                           repos = \"https://www.stats.bris.ac.uk/R/\")\n",
    "\n",
    "# install Claddis from GitHub\n",
    "if (!require(Claddis)) devtools::install_github(\"graemetlloyd/Claddis\")"
   ]
  },
  {
   "cell_type": "markdown",
   "metadata": {},
   "source": [
    "Load the required packages."
   ]
  },
  {
   "cell_type": "code",
   "execution_count": 8,
   "metadata": {},
   "outputs": [],
   "source": [
    "library(Claddis)\n",
    "library(dispRity)\n",
    "library(magrittr)"
   ]
  },
  {
   "cell_type": "markdown",
   "metadata": {},
   "source": [
    "### Additional script\n",
    "\n",
    "The following additional script is used for plotting functions, but I kept it separate for ease/brevity."
   ]
  },
  {
   "cell_type": "code",
   "execution_count": 9,
   "metadata": {},
   "outputs": [],
   "source": [
    "#source() # add plotting function script"
   ]
  },
  {
   "cell_type": "markdown",
   "metadata": {},
   "source": [
    "## Organising cladistic data\n",
    "\n",
    "Load the required data; this includes:\n",
    "\n",
    "1. A cladistic matrix of ichthyosaurs (Moon 2017, _J. Syst. Palaeontol._, doi:[10.1080/14772019.2017.1394922](http://www.doi.org/10.1080/14772019.2017.1394922)).\n",
    "2. Occurrence dates for each taxon in the matrix (Moon & Stubbs, in prep.).\n",
    "3. Presence/absence in lagerstätten for each taxon (Flannery-Sutherland _et al._, in prep)."
   ]
  },
  {
   "cell_type": "code",
   "execution_count": 13,
   "metadata": {},
   "outputs": [
    {
     "data": {
      "text/html": [
       "<table>\n",
       "<thead><tr><th></th><th scope=col>FAD</th><th scope=col>LAD</th><th scope=col>Lag</th></tr></thead>\n",
       "<tbody>\n",
       "\t<tr><th scope=row>Acamptonectes_densus</th><td>132.90</td><td>129.40</td><td>0     </td></tr>\n",
       "\t<tr><th scope=row>Aegirosaurus_leptospondylus</th><td>153.96</td><td>149.87</td><td>1     </td></tr>\n",
       "\t<tr><th scope=row>Arthropterygius_chrisorum</th><td>163.47</td><td>152.06</td><td>0     </td></tr>\n",
       "\t<tr><th scope=row>Athabascasaurus_bitumineus</th><td>113.00</td><td>111.50</td><td>0     </td></tr>\n",
       "\t<tr><th scope=row>Barracudasauroides_panxianensis</th><td>244.94</td><td>243.99</td><td>1     </td></tr>\n",
       "\t<tr><th scope=row>Besanosaurus_leptorhynchus</th><td>242.10</td><td>241.50</td><td>1     </td></tr>\n",
       "</tbody>\n",
       "</table>\n"
      ],
      "text/latex": [
       "\\begin{tabular}{r|lll}\n",
       "  & FAD & LAD & Lag\\\\\n",
       "\\hline\n",
       "\tAcamptonectes\\_densus & 132.90 & 129.40 & 0     \\\\\n",
       "\tAegirosaurus\\_leptospondylus & 153.96 & 149.87 & 1     \\\\\n",
       "\tArthropterygius\\_chrisorum & 163.47 & 152.06 & 0     \\\\\n",
       "\tAthabascasaurus\\_bitumineus & 113.00 & 111.50 & 0     \\\\\n",
       "\tBarracudasauroides\\_panxianensis & 244.94 & 243.99 & 1     \\\\\n",
       "\tBesanosaurus\\_leptorhynchus & 242.10 & 241.50 & 1     \\\\\n",
       "\\end{tabular}\n"
      ],
      "text/markdown": [
       "\n",
       "| <!--/--> | FAD | LAD | Lag | \n",
       "|---|---|---|---|---|---|\n",
       "| Acamptonectes_densus | 132.90 | 129.40 | 0      | \n",
       "| Aegirosaurus_leptospondylus | 153.96 | 149.87 | 1      | \n",
       "| Arthropterygius_chrisorum | 163.47 | 152.06 | 0      | \n",
       "| Athabascasaurus_bitumineus | 113.00 | 111.50 | 0      | \n",
       "| Barracudasauroides_panxianensis | 244.94 | 243.99 | 1      | \n",
       "| Besanosaurus_leptorhynchus | 242.10 | 241.50 | 1      | \n",
       "\n",
       "\n"
      ],
      "text/plain": [
       "                                FAD    LAD    Lag\n",
       "Acamptonectes_densus            132.90 129.40 0  \n",
       "Aegirosaurus_leptospondylus     153.96 149.87 1  \n",
       "Arthropterygius_chrisorum       163.47 152.06 0  \n",
       "Athabascasaurus_bitumineus      113.00 111.50 0  \n",
       "Barracudasauroides_panxianensis 244.94 243.99 1  \n",
       "Besanosaurus_leptorhynchus      242.10 241.50 1  "
      ]
     },
     "metadata": {},
     "output_type": "display_data"
    }
   ],
   "source": [
    "nexus_data <- list(ReadMorphNexus(\"../data/ichthyosaur_cladistic_matrix.nex\"))\n",
    "taxa_ranges <- read.table(\"ichthyosaur_ranges_lagerstatten.tsv\",\n",
    "                          sep = \"\\t\",\n",
    "                          header = TRUE,\n",
    "                          row.names = 1)\n",
    "head(taxa_ranges)"
   ]
  },
  {
   "cell_type": "markdown",
   "metadata": {},
   "source": [
    "Remove lagerstätte and outgroup taxa. This will give \"full\" and \"reduced\" matrices."
   ]
  },
  {
   "cell_type": "code",
   "execution_count": 15,
   "metadata": {},
   "outputs": [
    {
     "name": "stdout",
     "output_type": "stream",
     "text": [
      "List of 1\n",
      " $ :List of 8\n",
      "  ..$ header       : chr \"\"\n",
      "  ..$ matrix       : chr [1:115, 1:287] NA \"1\" NA NA ...\n",
      "  .. ..- attr(*, \"dimnames\")=List of 2\n",
      "  .. .. ..$ : chr [1:115] \"Acamptonectes_densus\" \"Aegirosaurus_leptospondylus\" \"Arthropterygius_chrisorum\" \"Athabascasaurus_bitumineus\" ...\n",
      "  .. .. ..$ : NULL\n",
      "  ..$ ordering     : chr [1:287] \"unord\" \"unord\" \"unord\" \"unord\" ...\n",
      "  ..$ weights      : num [1:287] 1 1 1 1 1 1 1 1 1 1 ...\n",
      "  ..$ max.vals     : num [1:287] 1 1 1 1 1 1 1 1 1 1 ...\n",
      "  ..$ min.vals     : num [1:287] 0 0 0 0 0 0 0 0 0 0 ...\n",
      "  ..$ step.matrices: NULL\n",
      "  ..$ symbols      : chr [1:4] \"0\" \"1\" \"2\" \"3\"\n"
     ]
    }
   ],
   "source": [
    "nexus_data$full$matrix <- nexus_data$full$matrix[\n",
    "  !rownames(nexus_data$full$matrix) %in% \"Hupehsuchus_nanchangensis\",\n",
    "]\n",
    "nexus_data$reduced <- nexus_data$full\n",
    "nexus_data$reduced$matrix <- nexus_data$reduced$matrix[\n",
    "  !rownames(nexus_data$reduced$matrix) %in%\n",
    "  rownames(taxa_ranges[taxa_ranges$Lag == 1, ]),\n",
    "]\n",
    "str(nexus_data)"
   ]
  },
  {
   "cell_type": "code",
   "execution_count": null,
   "metadata": {},
   "outputs": [],
   "source": []
  }
 ],
 "metadata": {
  "kernelspec": {
   "display_name": "R",
   "language": "R",
   "name": "ir"
  },
  "language_info": {
   "codemirror_mode": "r",
   "file_extension": ".r",
   "mimetype": "text/x-r-source",
   "name": "R",
   "pygments_lexer": "r",
   "version": "3.5.1"
  }
 },
 "nbformat": 4,
 "nbformat_minor": 2
}
